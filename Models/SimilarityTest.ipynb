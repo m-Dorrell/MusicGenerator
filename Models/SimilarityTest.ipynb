{
 "cells": [
  {
   "cell_type": "markdown",
   "metadata": {},
   "source": [
    "# <center>Similarity Test</center>\n",
    "\n",
    "This notebook will read in a MIDI file generated and a directory of MIDI files that it learned on and will determine the similarity of it to each of the songs.\n",
    "\n",
    "This notebook was created to ensure that the model wasn't overfitting music automatically since it is intractatable to search through several hundreds of songs to confirm it isn't copying. We have found that no significant copying has been done by the model. At most 10-15% overlaps with multiple songs.\n",
    "\n",
    "## Directions for Use\n",
    "\n",
    "1. Place the desired MIDI file in the folder /Similarity/input\n",
    "2. Place the training MIDIs into the folder /Similarity/compare_to\n",
    "3. Run all code snippets\n",
    "4. The final code snippet will output the percentage the input song matches the comparison songs"
   ]
  },
  {
   "cell_type": "code",
   "execution_count": 45,
   "metadata": {},
   "outputs": [],
   "source": [
    "import glob\n",
    "from music21 import converter, instrument, note, chord, stream, duration\n",
    "from fuzzywuzzy import fuzz\n",
    "import numpy as np"
   ]
  },
  {
   "cell_type": "markdown",
   "metadata": {},
   "source": [
    "First get all of the notes for the songs to compare the input to."
   ]
  },
  {
   "cell_type": "code",
   "execution_count": 46,
   "metadata": {},
   "outputs": [
    {
     "name": "stdout",
     "output_type": "stream",
     "text": [
      "Parsing ../Similarity/compare_to\\Pokemon Gold, Silver, Crystal - Cinnabar Island (HGSS Version).mid\n",
      "G major\n",
      "Parsing ../Similarity/compare_to\\Pokemon Gold, Silver, Crystal - S.S. Aqua .mid\n",
      "G major\n",
      "Parsing ../Similarity/compare_to\\Pokemon GoldSilverCrystal - Azalea TownBlackthorn City.mid\n",
      "C# major\n",
      "Parsing ../Similarity/compare_to\\Pokemon GoldSilverCrystal - Bicycle.mid\n",
      "E minor\n",
      "Parsing ../Similarity/compare_to\\Pokemon GoldSilverCrystal - Bug Catching Contest.mid\n",
      "E minor\n",
      "Parsing ../Similarity/compare_to\\Pokemon GoldSilverCrystal - Burned Tower.mid\n",
      "E minor\n",
      "Parsing ../Similarity/compare_to\\Pokemon GoldSilverCrystal - Champion Battle.mid\n",
      "G# minor\n",
      "Parsing ../Similarity/compare_to\\Pokemon GoldSilverCrystal - Cherrygrove CityMahogany Town.mid\n",
      "F major\n",
      "Parsing ../Similarity/compare_to\\Pokemon GoldSilverCrystal - Dance Theatre.mid\n",
      "A minor\n",
      "Parsing ../Similarity/compare_to\\Pokemon GoldSilverCrystal - Dark Cave.mid\n",
      "A- major\n",
      "Parsing ../Similarity/compare_to\\Pokemon GoldSilverCrystal - Dragons Den.mid\n",
      "C# minor\n",
      "Parsing ../Similarity/compare_to\\Pokemon GoldSilverCrystal - Ecruteak CityCianwood City.mid\n",
      "C major\n",
      "Parsing ../Similarity/compare_to\\Pokemon GoldSilverCrystal - Girl Trainer Confrontation.mid\n",
      "E major\n",
      "Parsing ../Similarity/compare_to\\Pokemon GoldSilverCrystal - Goldenrod City.mid\n",
      "A- major\n",
      "Parsing ../Similarity/compare_to\\Pokemon GoldSilverCrystal - Gym Leader Defeated.mid\n",
      "D major\n",
      "Parsing ../Similarity/compare_to\\Pokemon GoldSilverCrystal - Gym.mid\n",
      "G major\n",
      "Parsing ../Similarity/compare_to\\Pokemon GoldSilverCrystal - Indigo Plateau.mid\n",
      "D major\n",
      "Parsing ../Similarity/compare_to\\Pokemon GoldSilverCrystal - Johto Gym Leader Battle.mid\n",
      "A- major\n",
      "Parsing ../Similarity/compare_to\\Pokemon GoldSilverCrystal - Johto Wild Pokemon Battle.mid\n",
      "C major\n",
      "Parsing ../Similarity/compare_to\\Pokemon GoldSilverCrystal - Kanto Gym Leader Battle.mid\n",
      "G# minor\n",
      "Parsing ../Similarity/compare_to\\Pokemon GoldSilverCrystal - Lavender Town.mid\n",
      "C major\n",
      "Parsing ../Similarity/compare_to\\Pokemon GoldSilverCrystal - Menu.mid\n",
      "C# minor\n",
      "Parsing ../Similarity/compare_to\\Pokemon GoldSilverCrystal - National Park.mid\n",
      "B- minor\n",
      "Parsing ../Similarity/compare_to\\Pokemon GoldSilverCrystal - New Bark Town.mid\n",
      "D major\n",
      "Parsing ../Similarity/compare_to\\Pokemon GoldSilverCrystal - Olivine Lighthouse.mid\n",
      "C# minor\n",
      "Parsing ../Similarity/compare_to\\Pokemon GoldSilverCrystal - Pokemon Lullaby.mid\n",
      "C major\n",
      "Parsing ../Similarity/compare_to\\Pokemon GoldSilverCrystal - Pokemon March.mid\n",
      "E- major\n",
      "Parsing ../Similarity/compare_to\\Pokemon GoldSilverCrystal - Professor Elms Lab.mid\n",
      "F major\n",
      "Parsing ../Similarity/compare_to\\Pokemon GoldSilverCrystal - Professor Oaks Theme.mid\n",
      "E major\n",
      "Parsing ../Similarity/compare_to\\Pokemon GoldSilverCrystal - Rival Battle.mid\n",
      "G# minor\n",
      "Parsing ../Similarity/compare_to\\Pokemon GoldSilverCrystal - Route 27.mid\n",
      "A minor\n",
      "Parsing ../Similarity/compare_to\\Pokemon GoldSilverCrystal - Route 29.mid\n",
      "C major\n",
      "Parsing ../Similarity/compare_to\\Pokemon GoldSilverCrystal - Route 32.mid\n",
      "D major\n",
      "Parsing ../Similarity/compare_to\\Pokemon GoldSilverCrystal - Route 38.mid\n",
      "B major\n",
      "Parsing ../Similarity/compare_to\\Pokemon GoldSilverCrystal - Route 42.mid\n",
      "D major\n",
      "Parsing ../Similarity/compare_to\\Pokemon GoldSilverCrystal - Saffron City.mid\n",
      "D major\n",
      "Parsing ../Similarity/compare_to\\Pokemon GoldSilverCrystal - Show Me Around.mid\n",
      "A major\n",
      "Parsing ../Similarity/compare_to\\Pokemon GoldSilverCrystal - Sprout Tower.mid\n",
      "B- minor\n",
      "Parsing ../Similarity/compare_to\\Pokemon GoldSilverCrystal - Staff Credits.mid\n",
      "G major\n",
      "Parsing ../Similarity/compare_to\\Pokemon GoldSilverCrystal - Surf.mid\n",
      "E- major\n",
      "Parsing ../Similarity/compare_to\\Pokemon GoldSilverCrystal - Team RocketRadio Tower Takeover.mid\n",
      "A- major\n",
      "Parsing ../Similarity/compare_to\\Pokemon GoldSilverCrystal - Tin Tower.mid\n",
      "F minor\n",
      "Parsing ../Similarity/compare_to\\Pokemon GoldSilverCrystal - Title.mid\n",
      "C major\n",
      "Parsing ../Similarity/compare_to\\Pokemon GoldSilverCrystal - Union Cave.mid\n",
      "B- minor\n",
      "Parsing ../Similarity/compare_to\\Pokemon GoldSilverCrystal - Victory Road.mid\n",
      "A minor\n",
      "Parsing ../Similarity/compare_to\\Pokemon GoldSilverCrystal - Violet CityOlivine City.mid\n",
      "B major\n",
      "Parsing ../Similarity/compare_to\\Pokemon HeartGoldSoulSilver - Cerulean City.mid\n",
      "E major\n",
      "Parsing ../Similarity/compare_to\\Pokemon HeartGoldSoulSilver - Cinnabar Island.mid\n",
      "G major\n",
      "Parsing ../Similarity/compare_to\\Pokemon HeartGoldSoulSilver - Game Corner.mid\n",
      "C minor\n",
      "Parsing ../Similarity/compare_to\\Pokemon HeartGoldSoulSilver - Indigo Plateau.mid\n",
      "D minor\n",
      "Parsing ../Similarity/compare_to\\Pokemon HeartGoldSoulSilver - Instructions.mid\n",
      "F# major\n",
      "Parsing ../Similarity/compare_to\\Pokemon HeartGoldSoulSilver - Lyras Theme.mid\n",
      "E- major\n",
      "Parsing ../Similarity/compare_to\\Pokemon HeartGoldSoulSilver - New Bark Town.mid\n",
      "D major\n",
      "Parsing ../Similarity/compare_to\\Pokemon HeartGoldSoulSilver - Pokemaniac Encounter.mid\n",
      "E- minor\n",
      "Parsing ../Similarity/compare_to\\Pokemon HeartGoldSoulSilver - Pokemon Center.mid\n",
      "D major\n",
      "Parsing ../Similarity/compare_to\\Pokemon HeartGoldSoulSilver - PokeWalker Synchronisation.mid\n",
      "E major\n",
      "Parsing ../Similarity/compare_to\\Pokemon HeartGoldSoulSilver - Route 4748.mid\n",
      "F major\n",
      "Parsing ../Similarity/compare_to\\Pokemon HeartGoldSoulSilver - Safari Zone Gate.mid\n",
      "A major\n",
      "Parsing ../Similarity/compare_to\\Pokemon HeartGoldSoulSilver - Team Rocket Hideout.mid\n",
      "B- minor\n",
      "Parsing ../Similarity/compare_to\\Pokemon HeartGoldSoulSilver - Title.mid\n",
      "C major\n",
      "Parsing ../Similarity/compare_to\\Pokemon HeartGoldSoulSilver - Viridian Forest.mid\n",
      "C major\n"
     ]
    }
   ],
   "source": [
    "def get_notes(path):\n",
    "    \"\"\"\n",
    "        Gets all notes and chords from midi file\n",
    "    \"\"\"\n",
    "    notes = []\n",
    "    names = []\n",
    "\n",
    "    for file in glob.glob(path + \"*.mid\"):        \n",
    "        song = []\n",
    "        midi = converter.parse(file)\n",
    "        \n",
    "        # Get some info about the file\n",
    "        key = midi.analyze('key')\n",
    "        key_string = key.tonic.name + ' ' + key.mode\n",
    "        \n",
    "        print(\"Parsing %s\" % file)\n",
    "        print(key_string)\n",
    "        \n",
    "        notes_to_parse = None\n",
    "\n",
    "        try: # file has instrument parts\n",
    "            s2 = instrument.partitionByInstrument(midi)\n",
    "            notes_to_parse = s2.parts[0].recurse() \n",
    "        except: # file has notes in a flat structure\n",
    "            notes_to_parse = midi.flat.notes\n",
    "\n",
    "        for element in notes_to_parse:\n",
    "            if isinstance(element, note.Note):\n",
    "                song.append([str(element.pitch), element.offset, element.duration])\n",
    "            elif isinstance(element, chord.Chord):\n",
    "                song_note = '.'.join(str(n) for n in element.normalOrder)\n",
    "                song.append([song_note, element.offset, element.duration])\n",
    "        notes.append(np.array(song))\n",
    "        names.append(file.strip(path + '\\\\'))\n",
    "\n",
    "    return notes, names\n",
    "\n",
    "comp_path = \"../Similarity/compare_to/\"\n",
    "comp_notes, comp_names = get_notes(comp_path)"
   ]
  },
  {
   "cell_type": "markdown",
   "metadata": {},
   "source": [
    "Process the similarities into readable formats"
   ]
  },
  {
   "cell_type": "code",
   "execution_count": 47,
   "metadata": {},
   "outputs": [],
   "source": [
    "sep = \" \"\n",
    "comp_pitches = []\n",
    "comp_offsets = []\n",
    "comp_durations = []\n",
    "for song in comp_notes:\n",
    "    if len(song):\n",
    "        comp_pitches.append(sep.join(song[:,0]))\n",
    "        comp_offsets.append(sep.join([str(round(float(x), 2)) for x in song[:,1]]))\n",
    "        comp_durations.append(sep.join([str(round(float(x.quarterLength), 2)) for x in song[:,2]]))"
   ]
  },
  {
   "cell_type": "markdown",
   "metadata": {},
   "source": [
    "Next, get the input song. I will assume this is the first song received."
   ]
  },
  {
   "cell_type": "code",
   "execution_count": 48,
   "metadata": {},
   "outputs": [
    {
     "name": "stdout",
     "output_type": "stream",
     "text": [
      "Parsing ../Similarity/input\\Pokemon_GSC_3.mid\n",
      "A- major\n"
     ]
    }
   ],
   "source": [
    "input_path = \"../Similarity/input/\"\n",
    "notes, names = get_notes(input_path)"
   ]
  },
  {
   "cell_type": "code",
   "execution_count": 49,
   "metadata": {},
   "outputs": [],
   "source": [
    "input_notes = notes[0]\n",
    "input_name = names[0]"
   ]
  },
  {
   "cell_type": "markdown",
   "metadata": {},
   "source": [
    "I will then process the input song."
   ]
  },
  {
   "cell_type": "code",
   "execution_count": 50,
   "metadata": {},
   "outputs": [],
   "source": [
    "sep = \" \"\n",
    "input_pitches = sep.join(input_notes[:,0])\n",
    "input_offsets = sep.join([str(round(float(x), 2)) for x in input_notes[:,1]])\n",
    "input_durations = sep.join([str(round(float(x.quarterLength), 2)) for x in input_notes[:,2]])"
   ]
  },
  {
   "cell_type": "markdown",
   "metadata": {},
   "source": [
    "Now, I will use the fuzz library to test the similarity of songs. I will consider pitch, offset and duration as equally weighted so I will consider the similarity score the weighted average of the three.\n",
    "\n",
    "I chose to consider similarity based on partial ratio because this considers the similarity of sentences, rather than exact words. I expect many of the elements to be copied over from the songs, so simply counting how many are used in both is too basic to compare realistically.<br>\n",
    "This is the best measure for music because it allows for the same notes to be played with other notes in between without penalization in score, which is what would be desired - sounding similar, while trying new things.\n",
    "\n",
    "I will present them in descending order."
   ]
  },
  {
   "cell_type": "code",
   "execution_count": 51,
   "metadata": {},
   "outputs": [],
   "source": [
    "similarity_scores = dict()\n",
    "for (comp_pitch, comp_offset, comp_duration, name) in zip(comp_pitches, comp_offsets, comp_durations, comp_names):\n",
    "    similarity_scores[name] = round((fuzz.partial_ratio(input_pitches, comp_pitch) + fuzz.partial_ratio(input_offsets, comp_offset) + fuzz.partial_ratio(input_durations, comp_duration))/3, 2)"
   ]
  },
  {
   "cell_type": "code",
   "execution_count": 52,
   "metadata": {},
   "outputs": [
    {
     "name": "stdout",
     "output_type": "stream",
     "text": [
      "Similary Score (%)  -      Song Name\n",
      "6.67                -     Pokemon GoldSilverCrystal - Goldenrod City.mid\n",
      "6.33                -     Pokemon HeartGoldSoulSilver - Game Corner.mid\n",
      "5.67                -     Pokemon GoldSilverCrystal - Saffron City.mid\n",
      "3.67                -     Pokemon HeartGoldSoulSilver - Safari Zone Gate.mid\n",
      "2.00                -     Pokemon Gold, Silver, Crystal - Cinnabar Island (HGSS Version).mid\n",
      "2.00                -     Pokemon GoldSilverCrystal - Champion Battle.mid\n",
      "2.00                -     Pokemon GoldSilverCrystal - Girl Trainer Confrontation.mid\n",
      "2.00                -     Pokemon GoldSilverCrystal - Sprout Tower.mid\n",
      "2.00                -     Pokemon HeartGoldSoulSilver - Cinnabar Island.mid\n",
      "1.67                -     Pokemon GoldSilverCrystal - Gym.mid\n",
      "1.67                -     Pokemon GoldSilverCrystal - Lavender Town.mid\n",
      "1.67                -     Pokemon GoldSilverCrystal - Pokemon March.mid\n",
      "1.67                -     Pokemon GoldSilverCrystal - Victory Road.mid\n",
      "1.67                -     Pokemon HeartGoldSoulSilver - Indigo Plateau.mid\n",
      "1.33                -     Pokemon GoldSilverCrystal - Bug Catching Contest.mid\n",
      "1.33                -     Pokemon GoldSilverCrystal - Cherrygrove CityMahogany Town.mid\n",
      "1.33                -     Pokemon GoldSilverCrystal - Ecruteak CityCianwood City.mid\n",
      "1.33                -     Pokemon GoldSilverCrystal - New Bark Town.mid\n",
      "1.33                -     Pokemon GoldSilverCrystal - Olivine Lighthouse.mid\n",
      "1.33                -     Pokemon GoldSilverCrystal - Pokemon Lullaby.mid\n",
      "1.33                -     Pokemon GoldSilverCrystal - Professor Elms Lab.mid\n",
      "1.33                -     Pokemon GoldSilverCrystal - Route 27.mid\n",
      "1.33                -     Pokemon GoldSilverCrystal - Show Me Around.mid\n",
      "1.00                -     Pokemon Gold, Silver, Crystal - S.S. Aqua .mid\n",
      "1.00                -     Pokemon GoldSilverCrystal - Bicycle.mid\n",
      "1.00                -     Pokemon GoldSilverCrystal - Burned Tower.mid\n",
      "1.00                -     Pokemon GoldSilverCrystal - Dance Theatre.mid\n",
      "1.00                -     Pokemon GoldSilverCrystal - Dragons Den.mid\n",
      "1.00                -     Pokemon GoldSilverCrystal - Kanto Gym Leader Battle.mid\n",
      "1.00                -     Pokemon GoldSilverCrystal - National Park.mid\n",
      "1.00                -     Pokemon GoldSilverCrystal - Professor Oaks Theme.mid\n",
      "1.00                -     Pokemon GoldSilverCrystal - Route 29.mid\n",
      "1.00                -     Pokemon GoldSilverCrystal - Route 32.mid\n",
      "1.00                -     Pokemon GoldSilverCrystal - Route 38.mid\n",
      "1.00                -     Pokemon GoldSilverCrystal - Route 42.mid\n",
      "1.00                -     Pokemon GoldSilverCrystal - Staff Credits.mid\n",
      "1.00                -     Pokemon GoldSilverCrystal - Union Cave.mid\n",
      "1.00                -     Pokemon HeartGoldSoulSilver - New Bark Town.mid\n",
      "1.00                -     Pokemon HeartGoldSoulSilver - Pokemon Center.mid\n",
      "1.00                -     Pokemon HeartGoldSoulSilver - PokeWalker Synchronisation.mid\n",
      "1.00                -     Pokemon HeartGoldSoulSilver - Route 4748.mid\n",
      "1.00                -     Pokemon HeartGoldSoulSilver - Team Rocket Hideout.mid\n",
      "1.00                -     Pokemon HeartGoldSoulSilver - Title.mid\n",
      "1.00                -     Pokemon HeartGoldSoulSilver - Viridian Forest.mid\n",
      "0.67                -     Pokemon GoldSilverCrystal - Gym Leader Defeated.mid\n",
      "0.67                -     Pokemon GoldSilverCrystal - Indigo Plateau.mid\n",
      "0.67                -     Pokemon GoldSilverCrystal - Johto Gym Leader Battle.mid\n",
      "0.67                -     Pokemon GoldSilverCrystal - Johto Wild Pokemon Battle.mid\n",
      "0.67                -     Pokemon GoldSilverCrystal - Menu.mid\n",
      "0.67                -     Pokemon GoldSilverCrystal - Rival Battle.mid\n",
      "0.67                -     Pokemon GoldSilverCrystal - Title.mid\n",
      "0.67                -     Pokemon GoldSilverCrystal - Violet CityOlivine City.mid\n",
      "0.67                -     Pokemon HeartGoldSoulSilver - Cerulean City.mid\n",
      "0.67                -     Pokemon HeartGoldSoulSilver - Instructions.mid\n",
      "0.33                -     Pokemon GoldSilverCrystal - Azalea TownBlackthorn City.mid\n",
      "0.33                -     Pokemon GoldSilverCrystal - Surf.mid\n",
      "0.33                -     Pokemon GoldSilverCrystal - Tin Tower.mid\n",
      "0.33                -     Pokemon HeartGoldSoulSilver - Lyras Theme.mid\n",
      "0.00                -     Pokemon GoldSilverCrystal - Dark Cave.mid\n",
      "0.00                -     Pokemon GoldSilverCrystal - Team RocketRadio Tower Takeover.mid\n",
      "0.00                -     Pokemon HeartGoldSoulSilver - Pokemaniac Encounter.mid\n"
     ]
    }
   ],
   "source": [
    "import operator\n",
    "sorted_similarity_scores = sorted(similarity_scores.items(), key=operator.itemgetter(1), reverse=True)\n",
    "print('Similary Score (%)  -      Song Name')\n",
    "for tup in sorted_similarity_scores:\n",
    "    print(f'{tup[1]:.2f}                -     {tup[0]}')"
   ]
  },
  {
   "cell_type": "markdown",
   "metadata": {},
   "source": [
    "## Conclusion\n",
    "\n",
    "As can be seen here, the majority of songs are barely referenced with the cap around 15%"
   ]
  },
  {
   "cell_type": "code",
   "execution_count": null,
   "metadata": {},
   "outputs": [],
   "source": []
  }
 ],
 "metadata": {
  "kernelspec": {
   "display_name": "Python 3",
   "language": "python",
   "name": "python3"
  },
  "language_info": {
   "codemirror_mode": {
    "name": "ipython",
    "version": 3
   },
   "file_extension": ".py",
   "mimetype": "text/x-python",
   "name": "python",
   "nbconvert_exporter": "python",
   "pygments_lexer": "ipython3",
   "version": "3.6.8"
  }
 },
 "nbformat": 4,
 "nbformat_minor": 2
}
