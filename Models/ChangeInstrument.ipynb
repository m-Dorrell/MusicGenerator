{
 "cells": [
  {
   "cell_type": "markdown",
   "metadata": {},
   "source": [
    "# <center>Change Instrument used in a MIDI</center>\n",
    "\n",
    "This notebook will read in a MIDI file, print the key it is in and output a new MIDI file with the notes detected being played using a selected instrument.\n",
    "\n",
    "This notebook was created as a separate app implementing interesting functionality that was discovered during the recreation of songs.\n",
    "\n",
    "## Directions for Use\n",
    "\n",
    "1. Place the desired MIDI file(s) in the folder /Converter/input\n",
    "2. Run the first two code snippets to read in the file(s)\n",
    "3. Choose the desired output instrument using the third code snippet:\n",
    "    * Piano\n",
    "    * Bagpipes\n",
    "    * Flute\n",
    "    * Clarinet\n",
    "    * Ocarina\n",
    "    * Harmonica\n",
    "    * Steel Drum\n",
    "    * Vocals\n",
    "    * Soprano (vocals)\n",
    "    * Bass (vocals)\n",
    "    * Guitar\n",
    "    * Glec_guitar\n",
    "    * Violin\n",
    "    * Saxophone\n",
    "    * Trombone\n",
    "    * Trumpet\n",
    "    * Enlish Horn\n",
    "4. Run the final code snippet to convert the instrument\n",
    "5. Play the output MIDI file located in the folder /Converter/output"
   ]
  },
  {
   "cell_type": "code",
   "execution_count": 20,
   "metadata": {},
   "outputs": [],
   "source": [
    "import glob\n",
    "from music21 import converter, instrument, note, chord, stream, duration"
   ]
  },
  {
   "cell_type": "code",
   "execution_count": 13,
   "metadata": {
    "scrolled": false
   },
   "outputs": [
    {
     "name": "stdout",
     "output_type": "stream",
     "text": [
      "Parsing ../Converter/input\\LSTM_output_piano_1.mid\n",
      "D major\n",
      "This song has 1 instrument in use:\n",
      "\t Piano\n"
     ]
    }
   ],
   "source": [
    "def get_notes(path):\n",
    "    \"\"\"\n",
    "        Gets all notes and chords from midi file\n",
    "    \"\"\"\n",
    "    notes = []\n",
    "    names = []\n",
    "\n",
    "    for file in glob.glob(path + \"*.mid\"):        \n",
    "        song = []\n",
    "        midi = converter.parse(file)\n",
    "        \n",
    "        # Get some info about the file\n",
    "        key = midi.analyze('key')\n",
    "        key_string = key.tonic.name + ' ' + key.mode\n",
    "        \n",
    "        print(\"Parsing %s\" % file)\n",
    "        print(key_string)\n",
    "        \n",
    "        notes_to_parse = None\n",
    "\n",
    "        try: # file has instrument parts\n",
    "            s2 = instrument.partitionByInstrument(midi)\n",
    "            notes_to_parse = s2.parts[0].recurse()\n",
    "            instrumCount = 'instrument' if len(s2.parts) == 1 else 'instruments'\n",
    "            print(f'This song has {len(s2.parts)} {instrumCount} in use:')\n",
    "            for part in s2.parts:\n",
    "                print(f'\\t {part.getInstrument()}')\n",
    "        except: # file has notes in a flat structure\n",
    "            notes_to_parse = midi.flat.notes\n",
    "\n",
    "        for element in notes_to_parse:\n",
    "            if isinstance(element, note.Note):\n",
    "                song.append([str(element.pitch), element.offset, element.duration])\n",
    "            elif isinstance(element, chord.Chord):\n",
    "                song_note = '.'.join(str(n) for n in element.normalOrder)\n",
    "                song.append([song_note, element.offset, element.duration])\n",
    "        notes.append(song)\n",
    "        names.append(file.strip('../Converter/input\\\\'))\n",
    "\n",
    "    return notes, names\n",
    "\n",
    "input_path = \"../Converter/input/\"\n",
    "notes, names = get_notes(input_path)"
   ]
  },
  {
   "cell_type": "markdown",
   "metadata": {},
   "source": [
    "Now that the file has been read in, select which instrument to use."
   ]
  },
  {
   "cell_type": "code",
   "execution_count": 18,
   "metadata": {},
   "outputs": [],
   "source": [
    "# Select instrument\n",
    "instruments = {\n",
    "    'piano': instrument.Piano(),\n",
    "    'bagpipes': instrument.Bagpipes(),\n",
    "    'flute': instrument.Flute(),\n",
    "    'clarinet': instrument.Clarinet(),\n",
    "    'ocarina': instrument.Ocarina(),\n",
    "    'harmonica': instrument.Harmonica(),\n",
    "    'steel_drum': instrument.SteelDrum(),\n",
    "    'vocals': instrument.Vocalist(),\n",
    "    'soprano': instrument.Soprano(),\n",
    "    'bass': instrument.Bass(),\n",
    "    'guitar': instrument.Guitar(),\n",
    "    'elec_guitar': instrument.ElectricGuitar(),\n",
    "    'violin': instrument.Violin(),\n",
    "    'saxophone': instrument.Saxophone(),\n",
    "    'trombone': instrument.Trombone(),\n",
    "    'trumpet': instrument.Trumpet(),\n",
    "    'english_horn': instrument.EnglishHorn(),\n",
    "}\n",
    "instrument_string = 'ocarina'\n",
    "instrument_choice = instruments[instrument_string]"
   ]
  },
  {
   "cell_type": "markdown",
   "metadata": {},
   "source": [
    "Finally, the track can be reconstructed using the new instrument."
   ]
  },
  {
   "cell_type": "code",
   "execution_count": 19,
   "metadata": {},
   "outputs": [],
   "source": [
    "from music21 import duration as D\n",
    "\n",
    "def create_midi(prediction_output, filename, instrument_choice):\n",
    "    \"\"\" convert the output from the prediction to notes and create a midi file\n",
    "        from the notes \"\"\"\n",
    "    output_notes = []\n",
    "    output_notes.append(instrument_choice)\n",
    "\n",
    "    # create note and chord objects based on the values generated by the model\n",
    "    count = 0\n",
    "    for pattern in prediction_output:\n",
    "        note_str = pattern[0]\n",
    "        offset_str = pattern[1]\n",
    "        duration_str = pattern[2]\n",
    "        if \"#-\" in note_str:# To fix a rare exception using 2 accidentals\n",
    "            continue\n",
    "        # pattern is a chord\n",
    "        if ('.' in note_str) or note_str.isdigit():\n",
    "            notes_in_chord = note_str.split('.')\n",
    "            notes = []\n",
    "            for current_note in notes_in_chord:\n",
    "                new_note = note.Note(int(current_note))\n",
    "                notes.append(new_note)\n",
    "            new_chord = chord.Chord(notes)\n",
    "            new_chord.offset = offset_str\n",
    "            new_note.duration = duration_str\n",
    "            output_notes.append(new_chord)\n",
    "        # pattern is a note\n",
    "        else:\n",
    "            new_note = note.Note(note_str)\n",
    "            new_note.offset = offset_str\n",
    "            new_note.duration = duration_str\n",
    "            output_notes.append(new_note)\n",
    "        count += 1\n",
    "\n",
    "    midi_stream = stream.Stream(output_notes)\n",
    "    midi_stream.write('midi', fp='{}'.format(filename))\n",
    "    \n",
    "for (song_notes, song_names) in zip(notes, names):\n",
    "    create_midi(song_notes, '../converter/output/CONVERTED_' + instrument_string + '_' + song_names, instrument_choice)"
   ]
  },
  {
   "cell_type": "code",
   "execution_count": null,
   "metadata": {},
   "outputs": [],
   "source": []
  }
 ],
 "metadata": {
  "kernelspec": {
   "display_name": "Python 3",
   "language": "python",
   "name": "python3"
  },
  "language_info": {
   "codemirror_mode": {
    "name": "ipython",
    "version": 3
   },
   "file_extension": ".py",
   "mimetype": "text/x-python",
   "name": "python",
   "nbconvert_exporter": "python",
   "pygments_lexer": "ipython3",
   "version": "3.7.3"
  }
 },
 "nbformat": 4,
 "nbformat_minor": 2
}
